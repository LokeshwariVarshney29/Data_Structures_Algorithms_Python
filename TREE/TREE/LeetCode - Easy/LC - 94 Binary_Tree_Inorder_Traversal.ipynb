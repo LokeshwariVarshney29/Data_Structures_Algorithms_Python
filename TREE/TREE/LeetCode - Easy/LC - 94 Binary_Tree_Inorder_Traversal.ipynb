{
 "cells": [
  {
   "cell_type": "code",
   "execution_count": 8,
   "id": "521d9446",
   "metadata": {},
   "outputs": [
    {
     "data": {
      "text/plain": [
       "[26, 14, 89, 12, 23, 25]"
      ]
     },
     "execution_count": 8,
     "metadata": {},
     "output_type": "execute_result"
    }
   ],
   "source": [
    "class Node:\n",
    "    def __init__(self, data):\n",
    "        self.val = data\n",
    "        self.left = None\n",
    "        self.right = None\n",
    "class Solution:\n",
    "    def inorder(self, node):\n",
    "        result = []\n",
    "        def dfs(node):\n",
    "            if node:\n",
    "                dfs(node.left)\n",
    "                result.append(node.val)\n",
    "                dfs(node.right)\n",
    "        dfs(node)\n",
    "        return result\n",
    "root = Node(12)\n",
    "root.left = Node(14)\n",
    "root.right = Node(23)\n",
    "root.left.left = Node(26)\n",
    "root.left.right = Node(89)\n",
    "root.right.right = Node(25)\n",
    "sol = Solution()\n",
    "sol.inorder(root)"
   ]
  },
  {
   "cell_type": "code",
   "execution_count": null,
   "id": "30dcd2e4",
   "metadata": {},
   "outputs": [],
   "source": []
  }
 ],
 "metadata": {
  "kernelspec": {
   "display_name": "Python 3 (ipykernel)",
   "language": "python",
   "name": "python3"
  },
  "language_info": {
   "codemirror_mode": {
    "name": "ipython",
    "version": 3
   },
   "file_extension": ".py",
   "mimetype": "text/x-python",
   "name": "python",
   "nbconvert_exporter": "python",
   "pygments_lexer": "ipython3",
   "version": "3.9.13"
  },
  "latex_envs": {
   "LaTeX_envs_menu_present": true,
   "autoclose": false,
   "autocomplete": true,
   "bibliofile": "biblio.bib",
   "cite_by": "apalike",
   "current_citInitial": 1,
   "eqLabelWithNumbers": true,
   "eqNumInitial": 1,
   "hotkeys": {
    "equation": "Ctrl-E",
    "itemize": "Ctrl-I"
   },
   "labels_anchors": false,
   "latex_user_defs": false,
   "report_style_numbering": false,
   "user_envs_cfg": false
  }
 },
 "nbformat": 4,
 "nbformat_minor": 5
}
