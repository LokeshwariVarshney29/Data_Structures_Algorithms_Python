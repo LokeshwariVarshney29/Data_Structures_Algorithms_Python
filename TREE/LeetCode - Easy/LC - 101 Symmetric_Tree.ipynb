{
 "cells": [
  {
   "cell_type": "code",
   "execution_count": 9,
   "id": "c75a67b6",
   "metadata": {},
   "outputs": [
    {
     "name": "stdout",
     "output_type": "stream",
     "text": [
      "True\n"
     ]
    }
   ],
   "source": [
    "class Node:\n",
    "    def __init__(self, data):\n",
    "        self.val = data\n",
    "        self.left = self.right = None\n",
    "class Solution:\n",
    "    def isSymmetric(self, root):\n",
    "        def isMirror(t1, t2):\n",
    "            if not t1 and not t2:\n",
    "                return True\n",
    "            if not t1 or not t2:\n",
    "                return False\n",
    "            if t1 and t2 and t1.val == t2.val:\n",
    "                return isMirror(t1.left, t2.right) and isMirror(t1.right, t2.left)\n",
    "            return False\n",
    "        return isMirror(root, root)\n",
    "root = Node(1)\n",
    "root.left = Node(2)\n",
    "root.right = Node(2)\n",
    "root.left.left = Node(3)\n",
    "root.left.right = Node(4)\n",
    "root.right.left = Node(4)\n",
    "root.right.right = Node(3)\n",
    "sol = Solution()\n",
    "print(sol.isSymmetric(root))"
   ]
  },
  {
   "cell_type": "code",
   "execution_count": null,
   "id": "39a197f5",
   "metadata": {},
   "outputs": [],
   "source": []
  }
 ],
 "metadata": {
  "kernelspec": {
   "display_name": "Python 3 (ipykernel)",
   "language": "python",
   "name": "python3"
  },
  "language_info": {
   "codemirror_mode": {
    "name": "ipython",
    "version": 3
   },
   "file_extension": ".py",
   "mimetype": "text/x-python",
   "name": "python",
   "nbconvert_exporter": "python",
   "pygments_lexer": "ipython3",
   "version": "3.9.13"
  },
  "latex_envs": {
   "LaTeX_envs_menu_present": true,
   "autoclose": false,
   "autocomplete": true,
   "bibliofile": "biblio.bib",
   "cite_by": "apalike",
   "current_citInitial": 1,
   "eqLabelWithNumbers": true,
   "eqNumInitial": 1,
   "hotkeys": {
    "equation": "Ctrl-E",
    "itemize": "Ctrl-I"
   },
   "labels_anchors": false,
   "latex_user_defs": false,
   "report_style_numbering": false,
   "user_envs_cfg": false
  }
 },
 "nbformat": 4,
 "nbformat_minor": 5
}
